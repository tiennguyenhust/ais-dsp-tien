{
 "metadata": {
  "language_info": {
   "codemirror_mode": {
    "name": "ipython",
    "version": 3
   },
   "file_extension": ".py",
   "mimetype": "text/x-python",
   "name": "python",
   "nbconvert_exporter": "python",
   "pygments_lexer": "ipython3",
   "version": "3.8.8-final"
  },
  "orig_nbformat": 2,
  "kernelspec": {
   "name": "python388jvsc74a57bd0096b5706e8c9663241e9982b444192f01bd95cc1230b3c1403d145cafdaddfed",
   "display_name": "Python 3.8.8 64-bit ('SherlockHolmes': conda)"
  }
 },
 "nbformat": 4,
 "nbformat_minor": 2,
 "cells": [
  {
   "cell_type": "code",
   "execution_count": 1,
   "metadata": {},
   "outputs": [],
   "source": [
    "import pandas as pd\n",
    "import numpy as np"
   ]
  },
  {
   "cell_type": "code",
   "execution_count": 2,
   "metadata": {},
   "outputs": [],
   "source": [
    "data_train = pd.read_csv('train.csv')\n",
    "data_test = pd.read_csv('test.csv')"
   ]
  },
  {
   "source": [
    "## Get numerica Data"
   ],
   "cell_type": "markdown",
   "metadata": {}
  },
  {
   "cell_type": "code",
   "execution_count": 3,
   "metadata": {},
   "outputs": [],
   "source": [
    "data_train = data_train._get_numeric_data()\n",
    "data_test = data_test._get_numeric_data()"
   ]
  },
  {
   "source": [
    "## Filling data"
   ],
   "cell_type": "markdown",
   "metadata": {}
  },
  {
   "cell_type": "code",
   "execution_count": 4,
   "metadata": {},
   "outputs": [],
   "source": [
    "data_train['LotFrontage'] = data_train['LotFrontage'].fillna(value = data_train['LotFrontage'].mean())\n",
    "data_train['GarageYrBlt'] = data_train['GarageYrBlt'].fillna(value = 0)\n",
    "data_train['MasVnrArea'] = data_train['MasVnrArea'].fillna(value = 0)"
   ]
  },
  {
   "cell_type": "code",
   "execution_count": 5,
   "metadata": {},
   "outputs": [
    {
     "output_type": "execute_result",
     "data": {
      "text/plain": [
       "0"
      ]
     },
     "metadata": {},
     "execution_count": 5
    }
   ],
   "source": [
    "data_train.isnull().sum().sum()"
   ]
  },
  {
   "cell_type": "code",
   "execution_count": 6,
   "metadata": {},
   "outputs": [],
   "source": [
    "data_test['LotFrontage'] = data_test['LotFrontage'].fillna(value = data_test['LotFrontage'].mean())\n",
    "data_test['GarageYrBlt'] = data_test['GarageYrBlt'].fillna(value = 0)\n",
    "data_test['MasVnrArea'] = data_test['MasVnrArea'].fillna(value = 0)\n",
    "\n",
    "data_test['BsmtFinSF1'] = data_test['BsmtFinSF1'].fillna(value = data_test['BsmtFinSF1'].mean())\n",
    "data_test['BsmtFinSF2'] = data_test['BsmtFinSF2'].fillna(value = data_test['BsmtFinSF2'].mean())\n",
    "data_test['BsmtUnfSF'] = data_test['BsmtUnfSF'].fillna(value = data_test['BsmtUnfSF'].mean())\n",
    "data_test['BsmtFullBath'] = data_test['BsmtFullBath'].fillna(value = data_test['BsmtFullBath'].mean())\n",
    "data_test['BsmtHalfBath'] = data_test['BsmtHalfBath'].fillna(value = data_test['BsmtHalfBath'].mean())\n",
    "data_test['TotalBsmtSF'] = data_test['TotalBsmtSF'].fillna(value = data_test['TotalBsmtSF'].mean())\n",
    "data_test['GarageCars'] = data_test['GarageCars'].fillna(value = data_test['GarageCars'].mean())\n",
    "data_test['GarageArea'] = data_test['GarageArea'].fillna(value = data_test['GarageArea'].mean())"
   ]
  },
  {
   "cell_type": "code",
   "execution_count": 7,
   "metadata": {},
   "outputs": [
    {
     "output_type": "execute_result",
     "data": {
      "text/plain": [
       "0"
      ]
     },
     "metadata": {},
     "execution_count": 7
    }
   ],
   "source": [
    "data_test.isnull().sum().sum()"
   ]
  },
  {
   "cell_type": "code",
   "execution_count": 8,
   "metadata": {},
   "outputs": [],
   "source": [
    "y_train = data_train['SalePrice']\n",
    "X_train = data_train.drop(\"SalePrice\", axis=1)"
   ]
  },
  {
   "cell_type": "code",
   "execution_count": 9,
   "metadata": {},
   "outputs": [],
   "source": [
    "X_test = data_test"
   ]
  },
  {
   "cell_type": "code",
   "execution_count": 10,
   "metadata": {},
   "outputs": [
    {
     "output_type": "execute_result",
     "data": {
      "text/plain": [
       "((1460, 37), (1460,))"
      ]
     },
     "metadata": {},
     "execution_count": 10
    }
   ],
   "source": [
    "X_train.shape, y_train.shape"
   ]
  },
  {
   "source": [
    "## Training data with LinearRegression"
   ],
   "cell_type": "markdown",
   "metadata": {}
  },
  {
   "cell_type": "code",
   "execution_count": 11,
   "metadata": {},
   "outputs": [],
   "source": [
    "from sklearn.linear_model import LinearRegression"
   ]
  },
  {
   "cell_type": "code",
   "execution_count": 12,
   "metadata": {},
   "outputs": [],
   "source": [
    "reg = LinearRegression().fit(X_train, y_train)"
   ]
  },
  {
   "cell_type": "code",
   "execution_count": 13,
   "metadata": {},
   "outputs": [
    {
     "output_type": "execute_result",
     "data": {
      "text/plain": [
       "array([-1.12431378e+00, -1.82321549e+02, -8.02740750e+01,  4.18665429e-01,\n",
       "        1.73473853e+04,  5.10739276e+03,  3.43410814e+02,  1.20266285e+02,\n",
       "        2.81155135e+01,  9.71764103e+00,  1.58973867e-01, -6.64062911e-01,\n",
       "        9.21255199e+00,  1.88048091e+01,  1.98316715e+01, -9.62746715e+00,\n",
       "        2.90090134e+01,  8.42778983e+03,  1.53965510e+03,  2.85829716e+03,\n",
       "       -2.04674914e+03, -1.00430539e+04, -1.51368873e+04,  5.04985054e+03,\n",
       "        4.11969454e+03, -1.49147331e+01,  1.57310681e+04,  6.46229547e+00,\n",
       "        2.46758729e+01, -6.23659422e+00,  1.24886661e+01,  2.25563063e+01,\n",
       "        5.70012319e+01, -2.64639813e+01, -5.55488462e-01, -4.34003756e+01,\n",
       "       -6.78702872e+02])"
      ]
     },
     "metadata": {},
     "execution_count": 13
    }
   ],
   "source": [
    "reg.coef_"
   ]
  },
  {
   "cell_type": "code",
   "execution_count": 14,
   "metadata": {},
   "outputs": [
    {
     "output_type": "execute_result",
     "data": {
      "text/plain": [
       "412835.04796583776"
      ]
     },
     "metadata": {},
     "execution_count": 14
    }
   ],
   "source": [
    "reg.intercept_"
   ]
  },
  {
   "cell_type": "code",
   "execution_count": 15,
   "metadata": {},
   "outputs": [
    {
     "output_type": "execute_result",
     "data": {
      "text/plain": [
       "0.8167293094687056"
      ]
     },
     "metadata": {},
     "execution_count": 15
    }
   ],
   "source": [
    "reg.score(X_train, y_train)"
   ]
  },
  {
   "cell_type": "code",
   "execution_count": 16,
   "metadata": {},
   "outputs": [],
   "source": [
    "y_pred = reg.predict(X_test)"
   ]
  },
  {
   "cell_type": "code",
   "execution_count": 17,
   "metadata": {},
   "outputs": [],
   "source": [
    "X_test_id = X_test['Id']"
   ]
  },
  {
   "cell_type": "code",
   "execution_count": 18,
   "metadata": {},
   "outputs": [],
   "source": [
    "def make_output(X_test_id, y_pred):\n",
    "    with open('submission.csv', 'w') as writer:\n",
    "        n = len(y_pred)\n",
    "        \n",
    "        writer.write('Id,SalePrice')\n",
    "        writer.write('\\n')\n",
    "\n",
    "        for i in range(n):\n",
    "            line = str(X_test_id[i]) + ',' + str(y_pred[i])\n",
    "            writer.write(line)\n",
    "            writer.write('\\n')"
   ]
  },
  {
   "cell_type": "code",
   "execution_count": 19,
   "metadata": {},
   "outputs": [],
   "source": [
    "make_output(X_test_id, y_pred)"
   ]
  },
  {
   "source": [
    "## Improvement using GridSearchCV with RandomForestClassifier"
   ],
   "cell_type": "markdown",
   "metadata": {}
  },
  {
   "cell_type": "code",
   "execution_count": 21,
   "metadata": {},
   "outputs": [],
   "source": [
    "from sklearn.pipeline import Pipeline\n",
    "from sklearn.model_selection import GridSearchCV\n",
    "\n",
    "from sklearn.preprocessing import StandardScaler\n",
    "from sklearn.ensemble import RandomForestClassifier"
   ]
  },
  {
   "cell_type": "code",
   "execution_count": 22,
   "metadata": {},
   "outputs": [],
   "source": [
    "pipeline = Pipeline([( \"scaler\" , StandardScaler()),\n",
    "                       (\"rf\",RandomForestClassifier())])"
   ]
  },
  {
   "cell_type": "code",
   "execution_count": 24,
   "metadata": {},
   "outputs": [
    {
     "output_type": "execute_result",
     "data": {
      "text/plain": [
       "1.0"
      ]
     },
     "metadata": {},
     "execution_count": 24
    }
   ],
   "source": [
    "pipeline.fit(X_train,y_train)\n",
    "pipeline.score(X_train,y_train)"
   ]
  },
  {
   "cell_type": "code",
   "execution_count": 25,
   "metadata": {},
   "outputs": [],
   "source": [
    "y_pred = pipeline.predict(X_test)"
   ]
  },
  {
   "cell_type": "code",
   "execution_count": 26,
   "metadata": {},
   "outputs": [],
   "source": [
    "make_output(X_test_id, y_pred)"
   ]
  },
  {
   "source": [
    "## Github"
   ],
   "cell_type": "markdown",
   "metadata": {}
  },
  {
   "cell_type": "code",
   "execution_count": null,
   "metadata": {},
   "outputs": [],
   "source": [
    "https://github.com/tiennguyenhust/ais-dsp-tien/tree/master"
   ]
  },
  {
   "source": [
    "## Kaggle submission"
   ],
   "cell_type": "markdown",
   "metadata": {}
  },
  {
   "cell_type": "code",
   "execution_count": 30,
   "metadata": {},
   "outputs": [
    {
     "output_type": "execute_result",
     "data": {
      "image/png": "[encoded data removed]",
      "text/plain": [
       "<IPython.core.display.Image object>"
      ]
     },
     "metadata": {},
     "execution_count": 30
    }
   ],
   "source": [
    "from IPython.display import Image\n",
    "Image(\"submit.png\")"
   ]
  },
  {
   "cell_type": "code",
   "execution_count": null,
   "metadata": {},
   "outputs": [],
   "source": []
  }
 ]
}