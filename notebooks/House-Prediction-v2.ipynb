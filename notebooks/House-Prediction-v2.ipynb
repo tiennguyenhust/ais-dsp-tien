{
 "cells": [
  {
   "cell_type": "code",
   "execution_count": 1,
   "id": "accessible-scope",
   "metadata": {},
   "outputs": [],
   "source": [
    "%load_ext autoreload\n",
    "%autoreload 2"
   ]
  },
  {
   "cell_type": "code",
   "execution_count": 2,
   "id": "ancient-emerald",
   "metadata": {},
   "outputs": [],
   "source": [
    "import sys\n",
    "from pathlib import Path\n",
    "\n",
    "import pandas as pd"
   ]
  },
  {
   "cell_type": "code",
   "execution_count": 3,
   "id": "indoor-officer",
   "metadata": {},
   "outputs": [],
   "source": [
    "PROJECT_DIR = Path('.').resolve().parents[0].absolute()\n",
    "sys.path.append(str(PROJECT_DIR))\n",
    "\n",
    "DATA_DIR = PROJECT_DIR / 'data'\n",
    "MODELS_DIR = PROJECT_DIR / 'models'"
   ]
  },
  {
   "cell_type": "code",
   "execution_count": 4,
   "id": "stock-queue",
   "metadata": {},
   "outputs": [
    {
     "data": {
      "text/html": [
       "<div>\n",
       "<style scoped>\n",
       "    .dataframe tbody tr th:only-of-type {\n",
       "        vertical-align: middle;\n",
       "    }\n",
       "\n",
       "    .dataframe tbody tr th {\n",
       "        vertical-align: top;\n",
       "    }\n",
       "\n",
       "    .dataframe thead th {\n",
       "        text-align: right;\n",
       "    }\n",
       "</style>\n",
       "<table border=\"1\" class=\"dataframe\">\n",
       "  <thead>\n",
       "    <tr style=\"text-align: right;\">\n",
       "      <th></th>\n",
       "      <th>MSSubClass</th>\n",
       "      <th>MSZoning</th>\n",
       "      <th>LotFrontage</th>\n",
       "      <th>LotArea</th>\n",
       "      <th>Street</th>\n",
       "      <th>Alley</th>\n",
       "      <th>LotShape</th>\n",
       "      <th>LandContour</th>\n",
       "      <th>Utilities</th>\n",
       "      <th>LotConfig</th>\n",
       "      <th>...</th>\n",
       "      <th>PoolArea</th>\n",
       "      <th>PoolQC</th>\n",
       "      <th>Fence</th>\n",
       "      <th>MiscFeature</th>\n",
       "      <th>MiscVal</th>\n",
       "      <th>MoSold</th>\n",
       "      <th>YrSold</th>\n",
       "      <th>SaleType</th>\n",
       "      <th>SaleCondition</th>\n",
       "      <th>SalePrice</th>\n",
       "    </tr>\n",
       "    <tr>\n",
       "      <th>Id</th>\n",
       "      <th></th>\n",
       "      <th></th>\n",
       "      <th></th>\n",
       "      <th></th>\n",
       "      <th></th>\n",
       "      <th></th>\n",
       "      <th></th>\n",
       "      <th></th>\n",
       "      <th></th>\n",
       "      <th></th>\n",
       "      <th></th>\n",
       "      <th></th>\n",
       "      <th></th>\n",
       "      <th></th>\n",
       "      <th></th>\n",
       "      <th></th>\n",
       "      <th></th>\n",
       "      <th></th>\n",
       "      <th></th>\n",
       "      <th></th>\n",
       "      <th></th>\n",
       "    </tr>\n",
       "  </thead>\n",
       "  <tbody>\n",
       "    <tr>\n",
       "      <th>1</th>\n",
       "      <td>60</td>\n",
       "      <td>RL</td>\n",
       "      <td>65.0</td>\n",
       "      <td>8450</td>\n",
       "      <td>Pave</td>\n",
       "      <td>NaN</td>\n",
       "      <td>Reg</td>\n",
       "      <td>Lvl</td>\n",
       "      <td>AllPub</td>\n",
       "      <td>Inside</td>\n",
       "      <td>...</td>\n",
       "      <td>0</td>\n",
       "      <td>NaN</td>\n",
       "      <td>NaN</td>\n",
       "      <td>NaN</td>\n",
       "      <td>0</td>\n",
       "      <td>2</td>\n",
       "      <td>2008</td>\n",
       "      <td>WD</td>\n",
       "      <td>Normal</td>\n",
       "      <td>208500</td>\n",
       "    </tr>\n",
       "    <tr>\n",
       "      <th>2</th>\n",
       "      <td>20</td>\n",
       "      <td>RL</td>\n",
       "      <td>80.0</td>\n",
       "      <td>9600</td>\n",
       "      <td>Pave</td>\n",
       "      <td>NaN</td>\n",
       "      <td>Reg</td>\n",
       "      <td>Lvl</td>\n",
       "      <td>AllPub</td>\n",
       "      <td>FR2</td>\n",
       "      <td>...</td>\n",
       "      <td>0</td>\n",
       "      <td>NaN</td>\n",
       "      <td>NaN</td>\n",
       "      <td>NaN</td>\n",
       "      <td>0</td>\n",
       "      <td>5</td>\n",
       "      <td>2007</td>\n",
       "      <td>WD</td>\n",
       "      <td>Normal</td>\n",
       "      <td>181500</td>\n",
       "    </tr>\n",
       "    <tr>\n",
       "      <th>3</th>\n",
       "      <td>60</td>\n",
       "      <td>RL</td>\n",
       "      <td>68.0</td>\n",
       "      <td>11250</td>\n",
       "      <td>Pave</td>\n",
       "      <td>NaN</td>\n",
       "      <td>IR1</td>\n",
       "      <td>Lvl</td>\n",
       "      <td>AllPub</td>\n",
       "      <td>Inside</td>\n",
       "      <td>...</td>\n",
       "      <td>0</td>\n",
       "      <td>NaN</td>\n",
       "      <td>NaN</td>\n",
       "      <td>NaN</td>\n",
       "      <td>0</td>\n",
       "      <td>9</td>\n",
       "      <td>2008</td>\n",
       "      <td>WD</td>\n",
       "      <td>Normal</td>\n",
       "      <td>223500</td>\n",
       "    </tr>\n",
       "    <tr>\n",
       "      <th>4</th>\n",
       "      <td>70</td>\n",
       "      <td>RL</td>\n",
       "      <td>60.0</td>\n",
       "      <td>9550</td>\n",
       "      <td>Pave</td>\n",
       "      <td>NaN</td>\n",
       "      <td>IR1</td>\n",
       "      <td>Lvl</td>\n",
       "      <td>AllPub</td>\n",
       "      <td>Corner</td>\n",
       "      <td>...</td>\n",
       "      <td>0</td>\n",
       "      <td>NaN</td>\n",
       "      <td>NaN</td>\n",
       "      <td>NaN</td>\n",
       "      <td>0</td>\n",
       "      <td>2</td>\n",
       "      <td>2006</td>\n",
       "      <td>WD</td>\n",
       "      <td>Abnorml</td>\n",
       "      <td>140000</td>\n",
       "    </tr>\n",
       "    <tr>\n",
       "      <th>5</th>\n",
       "      <td>60</td>\n",
       "      <td>RL</td>\n",
       "      <td>84.0</td>\n",
       "      <td>14260</td>\n",
       "      <td>Pave</td>\n",
       "      <td>NaN</td>\n",
       "      <td>IR1</td>\n",
       "      <td>Lvl</td>\n",
       "      <td>AllPub</td>\n",
       "      <td>FR2</td>\n",
       "      <td>...</td>\n",
       "      <td>0</td>\n",
       "      <td>NaN</td>\n",
       "      <td>NaN</td>\n",
       "      <td>NaN</td>\n",
       "      <td>0</td>\n",
       "      <td>12</td>\n",
       "      <td>2008</td>\n",
       "      <td>WD</td>\n",
       "      <td>Normal</td>\n",
       "      <td>250000</td>\n",
       "    </tr>\n",
       "  </tbody>\n",
       "</table>\n",
       "<p>5 rows × 80 columns</p>\n",
       "</div>"
      ],
      "text/plain": [
       "    MSSubClass MSZoning  LotFrontage  LotArea Street Alley LotShape  \\\n",
       "Id                                                                    \n",
       "1           60       RL         65.0     8450   Pave   NaN      Reg   \n",
       "2           20       RL         80.0     9600   Pave   NaN      Reg   \n",
       "3           60       RL         68.0    11250   Pave   NaN      IR1   \n",
       "4           70       RL         60.0     9550   Pave   NaN      IR1   \n",
       "5           60       RL         84.0    14260   Pave   NaN      IR1   \n",
       "\n",
       "   LandContour Utilities LotConfig  ... PoolArea PoolQC Fence MiscFeature  \\\n",
       "Id                                  ...                                     \n",
       "1          Lvl    AllPub    Inside  ...        0    NaN   NaN         NaN   \n",
       "2          Lvl    AllPub       FR2  ...        0    NaN   NaN         NaN   \n",
       "3          Lvl    AllPub    Inside  ...        0    NaN   NaN         NaN   \n",
       "4          Lvl    AllPub    Corner  ...        0    NaN   NaN         NaN   \n",
       "5          Lvl    AllPub       FR2  ...        0    NaN   NaN         NaN   \n",
       "\n",
       "   MiscVal MoSold  YrSold  SaleType  SaleCondition  SalePrice  \n",
       "Id                                                             \n",
       "1        0      2    2008        WD         Normal     208500  \n",
       "2        0      5    2007        WD         Normal     181500  \n",
       "3        0      9    2008        WD         Normal     223500  \n",
       "4        0      2    2006        WD        Abnorml     140000  \n",
       "5        0     12    2008        WD         Normal     250000  \n",
       "\n",
       "[5 rows x 80 columns]"
      ]
     },
     "execution_count": 4,
     "metadata": {},
     "output_type": "execute_result"
    }
   ],
   "source": [
    "df_master = pd.read_csv(DATA_DIR / 'train.csv', index_col='Id')\n",
    "df_master.head()"
   ]
  },
  {
   "cell_type": "code",
   "execution_count": 20,
   "id": "breeding-uncertainty",
   "metadata": {},
   "outputs": [
    {
     "name": "stderr",
     "output_type": "stream",
     "text": [
      "C:\\Users\\Admin\\anaconda3\\envs\\SherlockHolmes\\lib\\site-packages\\sklearn\\utils\\validation.py:515: UserWarning: pandas.DataFrame with sparse columns found.It will be converted to a dense numpy array.\n",
      "  warnings.warn(\n",
      "C:\\Users\\Admin\\anaconda3\\envs\\SherlockHolmes\\lib\\site-packages\\sklearn\\utils\\validation.py:515: UserWarning: pandas.DataFrame with sparse columns found.It will be converted to a dense numpy array.\n",
      "  warnings.warn(\n"
     ]
    },
    {
     "data": {
      "text/plain": [
       "(RandomForestRegressor(max_depth=7, random_state=0), 0.15)"
      ]
     },
     "execution_count": 20,
     "metadata": {},
     "output_type": "execute_result"
    }
   ],
   "source": [
    "from app.train import train\n",
    "\n",
    "train(DATA_DIR / 'train.csv', MODELS_DIR)"
   ]
  },
  {
   "cell_type": "code",
   "execution_count": 21,
   "id": "national-superintendent",
   "metadata": {},
   "outputs": [],
   "source": [
    "inference_df = pd.read_csv(DATA_DIR / 'test.csv', index_col='Id')"
   ]
  },
  {
   "cell_type": "code",
   "execution_count": 22,
   "id": "helpful-superior",
   "metadata": {},
   "outputs": [
    {
     "name": "stderr",
     "output_type": "stream",
     "text": [
      "C:\\Users\\Admin\\anaconda3\\envs\\SherlockHolmes\\lib\\site-packages\\sklearn\\utils\\validation.py:515: UserWarning: pandas.DataFrame with sparse columns found.It will be converted to a dense numpy array.\n",
      "  warnings.warn(\n"
     ]
    },
    {
     "data": {
      "text/plain": [
       "array([126523.39353845, 155218.33808169, 178953.5445668 , ...,\n",
       "       149774.1234178 , 125721.27010435, 223984.15603761])"
      ]
     },
     "execution_count": 22,
     "metadata": {},
     "output_type": "execute_result"
    }
   ],
   "source": [
    "from app.inference import inference\n",
    "\n",
    "preditions = inference(MODELS_DIR, data=inference_df)\n",
    "preditions"
   ]
  },
  {
   "cell_type": "code",
   "execution_count": 23,
   "id": "accepted-composite",
   "metadata": {},
   "outputs": [
    {
     "data": {
      "text/plain": [
       "Int64Index([1461, 1462, 1463, 1464, 1465, 1466, 1467, 1468, 1469, 1470,\n",
       "            ...\n",
       "            2910, 2911, 2912, 2913, 2914, 2915, 2916, 2917, 2918, 2919],\n",
       "           dtype='int64', name='Id', length=1459)"
      ]
     },
     "execution_count": 23,
     "metadata": {},
     "output_type": "execute_result"
    }
   ],
   "source": [
    "data_test_id = inference_df.index\n",
    "data_test_id"
   ]
  },
  {
   "cell_type": "code",
   "execution_count": 24,
   "id": "greenhouse-content",
   "metadata": {},
   "outputs": [],
   "source": [
    "from app.output import *\n",
    "\n",
    "make_output(data_test_id, preditions)"
   ]
  },
  {
   "cell_type": "code",
   "execution_count": 17,
   "id": "automated-melbourne",
   "metadata": {
    "scrolled": true
   },
   "outputs": [
    {
     "name": "stderr",
     "output_type": "stream",
     "text": [
      "\n",
      "  0%|          | 0.00/35.1k [00:00<?, ?B/s]\n",
      "100%|##########| 35.1k/35.1k [00:03<00:00, 9.41kB/s]\n"
     ]
    },
    {
     "name": "stdout",
     "output_type": "stream",
     "text": [
      "Successfully submitted to House Prices - Advanced Regression Techniques\n"
     ]
    }
   ],
   "source": [
    "!kaggle competitions submit -c house-prices-advanced-regression-techniques -f ../data/submission.csv -m \"Upgrade\""
   ]
  },
  {
   "cell_type": "code",
   "execution_count": 25,
   "id": "eight-study",
   "metadata": {},
   "outputs": [
    {
     "name": "stdout",
     "output_type": "stream",
     "text": [
      "fileName               date                 description             status    publicScore  privateScore  \n",
      "---------------------  -------------------  ----------------------  --------  -----------  ------------  \n",
      "submission.csv         2021-05-30 14:25:35  Upgrade                 complete  0.15530      None          \n",
      "submission.csv         2021-05-30 14:24:18  Upgrade                 complete  0.15530      None          \n",
      "submission.csv         2021-05-30 14:19:14  Upgrade                 complete  0.15481      None          \n",
      "submission.csv         2021-05-30 14:15:09  Upgrade                 complete  0.15244      None          \n",
      "submission.csv         2021-05-30 13:59:41  Upgrade                 complete  0.41622      None          \n",
      "submission.csv         2021-05-30 13:44:58  Upgrade                 complete  0.15914      None          \n",
      "submission.csv         2021-05-10 17:35:17  Upgrade                 complete  0.15037      None          \n",
      "submission.csv         2021-05-10 17:34:10  Upgrade                 complete  0.24094      None          \n",
      "submission.csv         2021-05-10 17:33:28  Upgrade                 complete  0.15674      None          \n",
      "submission.csv         2021-05-08 22:03:12  Upgrade                 complete  0.33645      None          \n",
      "submission.csv         2021-05-08 22:02:15  Upgrade                 complete  0.29153      None          \n",
      "submission.csv         2021-05-08 22:00:20  Upgrade                 complete  0.15220      None          \n",
      "submission.csv         2021-05-08 21:59:16  Upgrade                 complete  0.15560      None          \n",
      "submission.csv         2021-05-08 21:58:48  Upgrade                 complete  0.15441      None          \n",
      "submission.csv         2021-05-08 21:55:55  Upgrade                 complete  0.15072      None          \n",
      "submission.csv         2021-05-08 21:53:41  Upgrade                 complete  0.14722      None          \n",
      "submission.csv         2021-05-08 21:53:21  Upgrade                 complete  0.15068      None          \n",
      "submission.csv         2021-05-08 21:51:38  Upgrade                 complete  0.15512      None          \n",
      "submission.csv         2021-05-08 21:47:13  Upgrade                 complete  0.14954      None          \n",
      "submission.csv         2021-05-07 20:33:57  Try with new max depth  complete  0.15365      None          \n",
      "submission.csv         2021-05-07 20:33:23  Try with new max depth  complete  0.15158      None          \n",
      "submission.csv         2021-05-07 20:32:36  Try with new max depth  complete  0.15791      None          \n",
      "submission.csv         2021-05-07 20:30:08  Try with new max depth  complete  0.15046      None          \n",
      "submission.csv         2021-05-07 20:29:46  Try with new max depth  complete  0.15153      None          \n",
      "submission.csv         2021-05-07 20:28:10  Try with new max depth  complete  0.25835      None          \n",
      "submission.csv         2021-05-07 20:26:37  Try with new max depth  complete  0.34104      None          \n",
      "submission.csv         2021-05-07 20:26:06  Try with new max depth  complete  0.40425      None          \n",
      "submission.csv         2021-05-07 20:21:52  Try with new max depth  complete  0.35310      None          \n",
      "submission.csv         2021-05-07 20:15:03  Try with new max depth  complete  0.17170      None          \n",
      "submission.csv         2021-04-16 16:01:41  Final                   complete  0.23308      None          \n",
      "submission.csv         2021-04-14 12:58:10  pipeline\n",
      "               complete  0.23771      None          \n",
      "submission.csv         2021-04-14 12:56:05  RandomForest            complete  0.42920      None          \n",
      "submission.csv         2021-04-13 22:17:20  ''                      complete  0.33300      None          \n",
      "submission.csv         2021-04-13 21:43:27  Upgrade                 complete  0.33300      None          \n",
      "sample_submission.csv  2021-04-11 15:00:16  sample                  complete  0.40613      None          \n",
      "submission.csv         2021-04-11 14:46:01  My first submission     complete  0.33300      None          \n"
     ]
    }
   ],
   "source": [
    "!kaggle competitions submissions -c house-prices-advanced-regression-techniques"
   ]
  },
  {
   "cell_type": "code",
   "execution_count": null,
   "id": "emotional-grass",
   "metadata": {},
   "outputs": [],
   "source": []
  }
 ],
 "metadata": {
  "kernelspec": {
   "display_name": "Python 3",
   "language": "python",
   "name": "python3"
  },
  "language_info": {
   "codemirror_mode": {
    "name": "ipython",
    "version": 3
   },
   "file_extension": ".py",
   "mimetype": "text/x-python",
   "name": "python",
   "nbconvert_exporter": "python",
   "pygments_lexer": "ipython3",
   "version": "3.8.8"
  },
  "toc": {
   "base_numbering": 1,
   "nav_menu": {},
   "number_sections": true,
   "sideBar": true,
   "skip_h1_title": false,
   "title_cell": "Table of Contents",
   "title_sidebar": "Contents",
   "toc_cell": false,
   "toc_position": {},
   "toc_section_display": true,
   "toc_window_display": false
  }
 },
 "nbformat": 4,
 "nbformat_minor": 5
}
