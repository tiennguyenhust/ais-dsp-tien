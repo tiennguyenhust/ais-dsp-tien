{
 "cells": [
  {
   "cell_type": "markdown",
   "id": "9f665bd0",
   "metadata": {},
   "source": [
    "## They can be recorded\n",
    "    - to local files (by default to mlruns directory)\n",
    "        + Launch UI: mlflow ui\n",
    "    - to SQLAlchemy compatible database\n",
    "        + Setup MLflow: mlflow.set_tracking_uri('sqlite:///mlflow.db')\n",
    "        + Launch UI: mlflow ui --backend-store-uri sqlite:///mlflow.db\n",
    "    - To show the current tracking uri mlflow.get_tracking_uri()\n",
    "    \n",
    "## Manual logging > https://www.mlflow.org/docs/latest/tracking.html#logging-functions\n",
    "    - Log the fitted model: mlflow.sklearn.log_model(rf, 'random-forest-model')\n",
    "    - Log the model parameters:\n",
    "        + One parameter at a time: mlflow.log_param('num_trees', n_estimators)\n",
    "        + A dict of parameters: mlflow.log_parms({'num_trees', n_estimators, 'alpha', 0.04})\n",
    "    - Log the evaluation metrics: mlflow.log_metric('mse', mse)\n",
    "    - Log other artifacts: mlflow.log_artifact('predictions.csv')\n",
    "    \n",
    "    \n",
    "## Automatic logging with MLflow autolog\n",
    "    - With MLflow's autologging capabilities, a single line of code automatically logs the resulting model, the parameters used to create the model, and a model score > https://www.mlflow.org/docs/latest/tracking.html#automatic-logging\n",
    "    - Call mlflow.<framework>.autolog() API before running training code to log model-specific metrics, parameters, and model artifacts. Supports many ML frameworks (sklearn, tensorflow, etc)."
   ]
  },
  {
   "cell_type": "code",
   "execution_count": 24,
   "id": "cb0b2ba9",
   "metadata": {},
   "outputs": [],
   "source": [
    "import numpy as np\n",
    "import pandas as pd\n",
    "import mlflow\n",
    "import sys\n",
    "from pathlib import Path\n",
    "import joblib\n",
    "\n",
    "from sklearn.linear_model import ElasticNet\n",
    "from sklearn.ensemble import RandomForestRegressor"
   ]
  },
  {
   "cell_type": "code",
   "execution_count": 2,
   "id": "76ee551c",
   "metadata": {},
   "outputs": [],
   "source": [
    "mlflow.set_experiment('my_experiment')"
   ]
  },
  {
   "cell_type": "code",
   "execution_count": 36,
   "id": "25bcfc0d",
   "metadata": {},
   "outputs": [
    {
     "data": {
      "text/plain": [
       "((331, 10), (111, 10))"
      ]
     },
     "execution_count": 36,
     "metadata": {},
     "output_type": "execute_result"
    }
   ],
   "source": [
    "from sklearn.datasets import load_diabetes\n",
    "from sklearn.model_selection import train_test_split\n",
    "\n",
    "def get_dataset() -> pd.DataFrame:\n",
    "    db = load_diabetes()\n",
    "    X, y = db.data, db.target\n",
    "    return train_test_split(X, y, random_state=42)\n",
    "\n",
    "X_train, X_test, y_train, y_test = get_dataset()\n",
    "X_train.shape, X_test.shape"
   ]
  },
  {
   "cell_type": "code",
   "execution_count": 47,
   "id": "9c7f3c8d",
   "metadata": {
    "scrolled": true
   },
   "outputs": [],
   "source": [
    "np.savetxt('diabetes_X_test.csv', X_test, delimiter=',')"
   ]
  },
  {
   "cell_type": "code",
   "execution_count": 19,
   "id": "ff3081d9",
   "metadata": {},
   "outputs": [
    {
     "data": {
      "text/plain": [
       "WindowsPath('C:/Users/Admin/Artificial_Intelligence/Data Science in Production/ais-dsp-tien/models')"
      ]
     },
     "execution_count": 19,
     "metadata": {},
     "output_type": "execute_result"
    }
   ],
   "source": [
    "PROJECT_DIR = Path('.').resolve().parents[0].absolute()\n",
    "sys.path.append(str(PROJECT_DIR))\n",
    "MODELS_DIR = PROJECT_DIR / 'models'\n",
    "MODELS_DIR"
   ]
  },
  {
   "cell_type": "code",
   "execution_count": 28,
   "id": "f446c18f",
   "metadata": {},
   "outputs": [],
   "source": [
    "from sklearn.metrics import mean_squared_error, mean_absolute_error, r2_score\n",
    "\n",
    "def evaluate_model(model, X_test, y_test):\n",
    "    y_pred = model.predict(X_test)\n",
    "    \n",
    "    rmse = np.sqrt(mean_squared_error(y_test, y_pred))\n",
    "    mae = mean_absolute_error(y_test, y_pred)\n",
    "    r2 = r2_score(y_test, y_pred)\n",
    "    \n",
    "    mlflow.log_metrics({'rmse': rmse, 'mae': mae, 'r2': r2})\n",
    "    print(f'RMSE = {rmse:.2f}, MAE = {mae:.2f}, R2 = {r2:.2f}')\n",
    "    return rmse, mae, r2\n",
    "\n",
    "def train_model(X_train, X_test, y_train, y_test: pd.DataFrame, model_class, **model_kwargs) -> int:\n",
    "    model = model_class(**model_kwargs)\n",
    "    mlflow.log_params(model_kwargs)\n",
    "    model.fit(X_train, y_train)\n",
    "    mlflow.sklearn.log_model(model, 'elastic_net')\n",
    "    evaluate_model(model, X_test, y_test)\n",
    "    \n",
    "    joblib.dump(model, MODELS_DIR / 'diabetes_model.joblib')"
   ]
  },
  {
   "cell_type": "code",
   "execution_count": 29,
   "id": "ddbda389",
   "metadata": {},
   "outputs": [
    {
     "name": "stdout",
     "output_type": "stream",
     "text": [
      "RMSE = 53.30, MAE = 42.59, R2 = 0.49\n"
     ]
    }
   ],
   "source": [
    "with mlflow.start_run():\n",
    "    model_kwargs = {'alpha': 0.005, 'l1_ratio': 0.8}\n",
    "    train_model(X_train, X_test, y_train, y_test, ElasticNet, **model_kwargs)"
   ]
  },
  {
   "cell_type": "code",
   "execution_count": 5,
   "id": "8ab0541c",
   "metadata": {},
   "outputs": [],
   "source": [
    "mlflow.set_tracking_uri('http://127.0.0.1:5000')"
   ]
  },
  {
   "cell_type": "code",
   "execution_count": 6,
   "id": "25bd1582",
   "metadata": {},
   "outputs": [
    {
     "name": "stdout",
     "output_type": "stream",
     "text": [
      "RMSE = 55.11, MAE = 45.22, R2 = 0.45\n"
     ]
    }
   ],
   "source": [
    "with mlflow.start_run():\n",
    "    model_kwargs = {'alpha': 0.01, 'l1_ratio': 0.75}\n",
    "    train_model(X_train, X_test, y_train, y_test, ElasticNet, **model_kwargs)"
   ]
  },
  {
   "cell_type": "code",
   "execution_count": 7,
   "id": "a0dcf549",
   "metadata": {},
   "outputs": [
    {
     "name": "stdout",
     "output_type": "stream",
     "text": [
      "RMSE = 59.01, MAE = 49.68, R2 = 0.37\n"
     ]
    }
   ],
   "source": [
    "with mlflow.start_run():\n",
    "    model_kwargs = {'alpha': 0.02, 'l1_ratio': 0.7}\n",
    "    train_model(X_train, X_test, y_train, y_test, ElasticNet, **model_kwargs)"
   ]
  },
  {
   "cell_type": "code",
   "execution_count": 8,
   "id": "2627e152",
   "metadata": {},
   "outputs": [
    {
     "name": "stdout",
     "output_type": "stream",
     "text": [
      "RMSE = 72.43, MAE = 63.33, R2 = 0.05\n"
     ]
    }
   ],
   "source": [
    "with mlflow.start_run():\n",
    "    model_kwargs = {'alpha': 0.1, 'l1_ratio': 0.01}\n",
    "    train_model(X_train, X_test, y_train, y_test, ElasticNet, **model_kwargs)"
   ]
  },
  {
   "cell_type": "code",
   "execution_count": 10,
   "id": "fb2acce5",
   "metadata": {},
   "outputs": [
    {
     "data": {
      "text/html": [
       "<div>\n",
       "<style scoped>\n",
       "    .dataframe tbody tr th:only-of-type {\n",
       "        vertical-align: middle;\n",
       "    }\n",
       "\n",
       "    .dataframe tbody tr th {\n",
       "        vertical-align: top;\n",
       "    }\n",
       "\n",
       "    .dataframe thead th {\n",
       "        text-align: right;\n",
       "    }\n",
       "</style>\n",
       "<table border=\"1\" class=\"dataframe\">\n",
       "  <thead>\n",
       "    <tr style=\"text-align: right;\">\n",
       "      <th></th>\n",
       "      <th>run_id</th>\n",
       "      <th>experiment_id</th>\n",
       "      <th>status</th>\n",
       "      <th>artifact_uri</th>\n",
       "      <th>start_time</th>\n",
       "      <th>end_time</th>\n",
       "      <th>metrics.r2</th>\n",
       "      <th>metrics.rmse</th>\n",
       "      <th>metrics.mae</th>\n",
       "      <th>params.alpha</th>\n",
       "      <th>params.l1_ratio</th>\n",
       "      <th>tags.mlflow.log-model.history</th>\n",
       "      <th>tags.mlflow.source.name</th>\n",
       "      <th>tags.mlflow.user</th>\n",
       "      <th>tags.mlflow.source.type</th>\n",
       "    </tr>\n",
       "  </thead>\n",
       "  <tbody>\n",
       "    <tr>\n",
       "      <th>0</th>\n",
       "      <td>1a2c80e0fce746c09d6ec69f99ea3c8b</td>\n",
       "      <td>1</td>\n",
       "      <td>FINISHED</td>\n",
       "      <td>./mlruns/1/1a2c80e0fce746c09d6ec69f99ea3c8b/ar...</td>\n",
       "      <td>2021-06-11 20:56:33.109000+00:00</td>\n",
       "      <td>2021-06-11 20:56:33.256000+00:00</td>\n",
       "      <td>0.486288</td>\n",
       "      <td>53.297923</td>\n",
       "      <td>42.585130</td>\n",
       "      <td>0.005</td>\n",
       "      <td>0.8</td>\n",
       "      <td>[{\"run_id\": \"1a2c80e0fce746c09d6ec69f99ea3c8b\"...</td>\n",
       "      <td>C:\\Users\\Admin\\anaconda3\\envs\\dsp\\lib\\site-pac...</td>\n",
       "      <td>Admin</td>\n",
       "      <td>LOCAL</td>\n",
       "    </tr>\n",
       "    <tr>\n",
       "      <th>1</th>\n",
       "      <td>a507de3be4c64f61bbc56cf184d5c4dd</td>\n",
       "      <td>1</td>\n",
       "      <td>FINISHED</td>\n",
       "      <td>./mlruns/1/a507de3be4c64f61bbc56cf184d5c4dd/ar...</td>\n",
       "      <td>2021-06-11 20:56:32.705000+00:00</td>\n",
       "      <td>2021-06-11 20:56:32.864000+00:00</td>\n",
       "      <td>0.370336</td>\n",
       "      <td>59.007193</td>\n",
       "      <td>49.684719</td>\n",
       "      <td>0.02</td>\n",
       "      <td>0.7</td>\n",
       "      <td>[{\"run_id\": \"a507de3be4c64f61bbc56cf184d5c4dd\"...</td>\n",
       "      <td>C:\\Users\\Admin\\anaconda3\\envs\\dsp\\lib\\site-pac...</td>\n",
       "      <td>Admin</td>\n",
       "      <td>LOCAL</td>\n",
       "    </tr>\n",
       "    <tr>\n",
       "      <th>2</th>\n",
       "      <td>6859353c6e884d49a61556c1e2d0aced</td>\n",
       "      <td>1</td>\n",
       "      <td>FINISHED</td>\n",
       "      <td>./mlruns/1/6859353c6e884d49a61556c1e2d0aced/ar...</td>\n",
       "      <td>2021-06-11 20:56:32.400000+00:00</td>\n",
       "      <td>2021-06-11 20:56:32.665000+00:00</td>\n",
       "      <td>0.450811</td>\n",
       "      <td>55.107592</td>\n",
       "      <td>45.220709</td>\n",
       "      <td>0.01</td>\n",
       "      <td>0.75</td>\n",
       "      <td>[{\"run_id\": \"6859353c6e884d49a61556c1e2d0aced\"...</td>\n",
       "      <td>C:\\Users\\Admin\\anaconda3\\envs\\dsp\\lib\\site-pac...</td>\n",
       "      <td>Admin</td>\n",
       "      <td>LOCAL</td>\n",
       "    </tr>\n",
       "    <tr>\n",
       "      <th>3</th>\n",
       "      <td>7e1f633921d94f628aaec2743e14b7dc</td>\n",
       "      <td>1</td>\n",
       "      <td>FINISHED</td>\n",
       "      <td>./mlruns/1/7e1f633921d94f628aaec2743e14b7dc/ar...</td>\n",
       "      <td>2021-06-11 20:50:26.622000+00:00</td>\n",
       "      <td>2021-06-11 20:50:26.842000+00:00</td>\n",
       "      <td>0.486288</td>\n",
       "      <td>53.297923</td>\n",
       "      <td>42.585130</td>\n",
       "      <td>0.005</td>\n",
       "      <td>0.8</td>\n",
       "      <td>[{\"run_id\": \"7e1f633921d94f628aaec2743e14b7dc\"...</td>\n",
       "      <td>C:\\Users\\Admin\\anaconda3\\envs\\dsp\\lib\\site-pac...</td>\n",
       "      <td>Admin</td>\n",
       "      <td>LOCAL</td>\n",
       "    </tr>\n",
       "    <tr>\n",
       "      <th>4</th>\n",
       "      <td>cd958e552a514550a2ed8088d3333983</td>\n",
       "      <td>1</td>\n",
       "      <td>FINISHED</td>\n",
       "      <td>./mlruns/1/cd958e552a514550a2ed8088d3333983/ar...</td>\n",
       "      <td>2021-06-11 20:50:17.742000+00:00</td>\n",
       "      <td>2021-06-11 20:50:17.956000+00:00</td>\n",
       "      <td>0.370336</td>\n",
       "      <td>59.007193</td>\n",
       "      <td>49.684719</td>\n",
       "      <td>0.02</td>\n",
       "      <td>0.7</td>\n",
       "      <td>[{\"run_id\": \"cd958e552a514550a2ed8088d3333983\"...</td>\n",
       "      <td>C:\\Users\\Admin\\anaconda3\\envs\\dsp\\lib\\site-pac...</td>\n",
       "      <td>Admin</td>\n",
       "      <td>LOCAL</td>\n",
       "    </tr>\n",
       "    <tr>\n",
       "      <th>5</th>\n",
       "      <td>66c49c3e54eb4eb89eebed5a165e3d76</td>\n",
       "      <td>1</td>\n",
       "      <td>FINISHED</td>\n",
       "      <td>./mlruns/1/66c49c3e54eb4eb89eebed5a165e3d76/ar...</td>\n",
       "      <td>2021-06-11 20:49:28.308000+00:00</td>\n",
       "      <td>2021-06-11 20:49:28.541000+00:00</td>\n",
       "      <td>0.450811</td>\n",
       "      <td>55.107592</td>\n",
       "      <td>45.220709</td>\n",
       "      <td>0.01</td>\n",
       "      <td>0.75</td>\n",
       "      <td>[{\"run_id\": \"66c49c3e54eb4eb89eebed5a165e3d76\"...</td>\n",
       "      <td>C:\\Users\\Admin\\anaconda3\\envs\\dsp\\lib\\site-pac...</td>\n",
       "      <td>Admin</td>\n",
       "      <td>LOCAL</td>\n",
       "    </tr>\n",
       "  </tbody>\n",
       "</table>\n",
       "</div>"
      ],
      "text/plain": [
       "                             run_id experiment_id    status  \\\n",
       "0  1a2c80e0fce746c09d6ec69f99ea3c8b             1  FINISHED   \n",
       "1  a507de3be4c64f61bbc56cf184d5c4dd             1  FINISHED   \n",
       "2  6859353c6e884d49a61556c1e2d0aced             1  FINISHED   \n",
       "3  7e1f633921d94f628aaec2743e14b7dc             1  FINISHED   \n",
       "4  cd958e552a514550a2ed8088d3333983             1  FINISHED   \n",
       "5  66c49c3e54eb4eb89eebed5a165e3d76             1  FINISHED   \n",
       "\n",
       "                                        artifact_uri  \\\n",
       "0  ./mlruns/1/1a2c80e0fce746c09d6ec69f99ea3c8b/ar...   \n",
       "1  ./mlruns/1/a507de3be4c64f61bbc56cf184d5c4dd/ar...   \n",
       "2  ./mlruns/1/6859353c6e884d49a61556c1e2d0aced/ar...   \n",
       "3  ./mlruns/1/7e1f633921d94f628aaec2743e14b7dc/ar...   \n",
       "4  ./mlruns/1/cd958e552a514550a2ed8088d3333983/ar...   \n",
       "5  ./mlruns/1/66c49c3e54eb4eb89eebed5a165e3d76/ar...   \n",
       "\n",
       "                        start_time                         end_time  \\\n",
       "0 2021-06-11 20:56:33.109000+00:00 2021-06-11 20:56:33.256000+00:00   \n",
       "1 2021-06-11 20:56:32.705000+00:00 2021-06-11 20:56:32.864000+00:00   \n",
       "2 2021-06-11 20:56:32.400000+00:00 2021-06-11 20:56:32.665000+00:00   \n",
       "3 2021-06-11 20:50:26.622000+00:00 2021-06-11 20:50:26.842000+00:00   \n",
       "4 2021-06-11 20:50:17.742000+00:00 2021-06-11 20:50:17.956000+00:00   \n",
       "5 2021-06-11 20:49:28.308000+00:00 2021-06-11 20:49:28.541000+00:00   \n",
       "\n",
       "   metrics.r2  metrics.rmse  metrics.mae params.alpha params.l1_ratio  \\\n",
       "0    0.486288     53.297923    42.585130        0.005             0.8   \n",
       "1    0.370336     59.007193    49.684719         0.02             0.7   \n",
       "2    0.450811     55.107592    45.220709         0.01            0.75   \n",
       "3    0.486288     53.297923    42.585130        0.005             0.8   \n",
       "4    0.370336     59.007193    49.684719         0.02             0.7   \n",
       "5    0.450811     55.107592    45.220709         0.01            0.75   \n",
       "\n",
       "                       tags.mlflow.log-model.history  \\\n",
       "0  [{\"run_id\": \"1a2c80e0fce746c09d6ec69f99ea3c8b\"...   \n",
       "1  [{\"run_id\": \"a507de3be4c64f61bbc56cf184d5c4dd\"...   \n",
       "2  [{\"run_id\": \"6859353c6e884d49a61556c1e2d0aced\"...   \n",
       "3  [{\"run_id\": \"7e1f633921d94f628aaec2743e14b7dc\"...   \n",
       "4  [{\"run_id\": \"cd958e552a514550a2ed8088d3333983\"...   \n",
       "5  [{\"run_id\": \"66c49c3e54eb4eb89eebed5a165e3d76\"...   \n",
       "\n",
       "                             tags.mlflow.source.name tags.mlflow.user  \\\n",
       "0  C:\\Users\\Admin\\anaconda3\\envs\\dsp\\lib\\site-pac...            Admin   \n",
       "1  C:\\Users\\Admin\\anaconda3\\envs\\dsp\\lib\\site-pac...            Admin   \n",
       "2  C:\\Users\\Admin\\anaconda3\\envs\\dsp\\lib\\site-pac...            Admin   \n",
       "3  C:\\Users\\Admin\\anaconda3\\envs\\dsp\\lib\\site-pac...            Admin   \n",
       "4  C:\\Users\\Admin\\anaconda3\\envs\\dsp\\lib\\site-pac...            Admin   \n",
       "5  C:\\Users\\Admin\\anaconda3\\envs\\dsp\\lib\\site-pac...            Admin   \n",
       "\n",
       "  tags.mlflow.source.type  \n",
       "0                   LOCAL  \n",
       "1                   LOCAL  \n",
       "2                   LOCAL  \n",
       "3                   LOCAL  \n",
       "4                   LOCAL  \n",
       "5                   LOCAL  "
      ]
     },
     "execution_count": 10,
     "metadata": {},
     "output_type": "execute_result"
    }
   ],
   "source": [
    "mlflow.search_runs(filter_string=\"metric.rmse < 60\")"
   ]
  },
  {
   "cell_type": "code",
   "execution_count": null,
   "id": "5855103e",
   "metadata": {},
   "outputs": [],
   "source": []
  }
 ],
 "metadata": {
  "kernelspec": {
   "display_name": "Python 3",
   "language": "python",
   "name": "python3"
  },
  "language_info": {
   "codemirror_mode": {
    "name": "ipython",
    "version": 3
   },
   "file_extension": ".py",
   "mimetype": "text/x-python",
   "name": "python",
   "nbconvert_exporter": "python",
   "pygments_lexer": "ipython3",
   "version": "3.8.8"
  },
  "toc": {
   "base_numbering": 1,
   "nav_menu": {},
   "number_sections": true,
   "sideBar": true,
   "skip_h1_title": false,
   "title_cell": "Table of Contents",
   "title_sidebar": "Contents",
   "toc_cell": false,
   "toc_position": {},
   "toc_section_display": true,
   "toc_window_display": false
  }
 },
 "nbformat": 4,
 "nbformat_minor": 5
}
